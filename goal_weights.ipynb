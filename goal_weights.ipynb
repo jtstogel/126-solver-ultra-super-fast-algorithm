{
 "cells": [
  {
   "cell_type": "code",
   "execution_count": null,
   "metadata": {},
   "outputs": [],
   "source": [
    "class Goal:\n",
    "    def __init__(self, tasks=[], x=-1, y=-1, hyperparameters = np.ones(6)):\n",
    "        self.tasks = list(tasks)\n",
    "        self.x, self.y = x, y\n",
    "        self.hyperparameters = np.copy(hyperparameters)\n",
    "\n",
    "class CityGoal(Goal):\n",
    "    def compute_feature(f):\n",
    "        if f == \"resource_probabilities\":\n",
    "            return self.board.get_resources() * prob_roll * can_actually_gain #resource array * prob_roll * boolean_array\n",
    "    \n",
    "    #skeleton\n",
    "    def estimate_weight(self, player, htime, feature_list):\n",
    "        feature_calcs = np.empty(len(feature_list))\n",
    "        for f in feature_list:\n",
    "            feature_calcs[index(f)] = (compute_feature(f))\n",
    "        self.hyperparameters = np.ones(len(feature_list)) #change pls thx\n",
    "        final_weight = np.multiply(feature_calcs, hyperparameters) #to be returned\n",
    "            \n",
    "        return 1 / (0.1+htime) # TODO\n",
    "        \n",
    "    \n",
    "\n",
    "class SettlementGoal(Goal):\n",
    "    def estimate_weight(self, player, htime):\n",
    "        return 20 / (0.1+htime) # TODO\n",
    "\n",
    "class PortGoal(SettlementGoal):\n",
    "    def estimate_weight(self, player, htime):\n",
    "        return 20 / (0.1+htime) # TODO\n",
    "\n",
    "class CardGoal(Goal):\n",
    "    def estimate_weight(self, player, htime):\n",
    "        return 0.1 # TODO"
   ]
  }
 ],
 "metadata": {
  "kernelspec": {
   "display_name": "Python 3",
   "language": "python",
   "name": "python3"
  },
  "language_info": {
   "codemirror_mode": {
    "name": "ipython",
    "version": 3
   },
   "file_extension": ".py",
   "mimetype": "text/x-python",
   "name": "python",
   "nbconvert_exporter": "python",
   "pygments_lexer": "ipython3",
   "version": "3.5.1"
  }
 },
 "nbformat": 4,
 "nbformat_minor": 2
}
