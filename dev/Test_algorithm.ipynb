{
 "cells": [
  {
   "cell_type": "code",
   "execution_count": 9,
   "metadata": {
    "collapsed": true
   },
   "outputs": [],
   "source": [
    "import numpy as np\n",
    "from catan import Catan, CatanException, get_random_dice_arrangement, Player, simulate_game, simulate_game_and_save\n",
    "import matplotlib.pyplot as plt\n",
    "from itertools import repeat\n",
    "%matplotlib inline"
   ]
  },
  {
   "cell_type": "code",
   "execution_count": 10,
   "metadata": {
    "collapsed": true
   },
   "outputs": [],
   "source": [
    "class Goal:\n",
    "    def __init__(self, tasks=[], x=-1, y=-1):\n",
    "        self.tasks = list(tasks)\n",
    "        self.x, self.y = x, y\n",
    "\n",
    "class CityGoal(Goal):\n",
    "    def estimate_weight(self, player, htime):\n",
    "        return 1 / (0.1+htime) # TODO\n",
    "\n",
    "class SettlementGoal(Goal):\n",
    "    def estimate_weight(self, player, htime):\n",
    "        return 20 / (0.1+htime) # TODO\n",
    "\n",
    "class PortGoal(SettlementGoal):\n",
    "    def estimate_weight(self, player, htime):\n",
    "        return 20 / (0.1+htime) # TODO\n",
    "\n",
    "class CardGoal(Goal):\n",
    "    def estimate_weight(self, player, htime):\n",
    "        return 0.1 # TODO\n",
    "\n",
    "\n",
    "class Task:\n",
    "    def __init__(self, x=-1, y=-1):\n",
    "        self.x, self.y = x, y\n",
    "    \n",
    "    def make_trading_rule(self, player):\n",
    "        return lambda x,y,z: (x,y,z)  # TODO\n",
    "    \n",
    "    def execute(self, player):\n",
    "        pass\n",
    "\n",
    "class CardTask(Task):\n",
    "    resources_needed = (1, 2, 2)\n",
    "    def execute(self, player):\n",
    "        if player.if_can_buy(\"card\"):\n",
    "            #print(\"buying a development card!\")\n",
    "            player.buy(\"card\")\n",
    "            return True\n",
    "        return False\n",
    "\n",
    "class CityTask(Task):\n",
    "    resources_needed = (0, 3, 3)\n",
    "    def execute(self, player):\n",
    "        if player.if_can_buy(\"city\"):\n",
    "            #print(\"building city at (%d, %d)!\" % (self.x, self.y))\n",
    "            player.buy(\"city\", self.x, self.y)\n",
    "            player.available_locations.add((self.x, self.y))\n",
    "            return True\n",
    "        return False\n",
    "\n",
    "class SettlementTask(Task):\n",
    "    resources_needed = (2, 1, 1)\n",
    "    def execute(self, player):\n",
    "        if player.if_can_buy(\"settlement\"):\n",
    "            #print(\"building settlement at (%d %d)!\" % (self.x, self.y))\n",
    "            player.buy(\"settlement\", self.x, self.y)\n",
    "            player.available_locations.add((self.x, self.y))\n",
    "            return True\n",
    "        return False\n",
    "\n",
    "class RoadTask(Task):\n",
    "    resources_needed = (1, 1, 0)\n",
    "    def execute(self, player):\n",
    "        if player.if_can_buy(\"road\"):\n",
    "            #print(\"building road from\", self.x, \"to\", self.y)\n",
    "            player.buy(\"road\", self.x, self.y)\n",
    "            player.available_locations.add(self.x)\n",
    "            player.available_locations.add(self.y)\n",
    "            return True\n",
    "        return False\n"
   ]
  },
  {
   "cell_type": "code",
   "execution_count": 11,
   "metadata": {
    "collapsed": true
   },
   "outputs": [],
   "source": [
    "# this is a function pretty much copied from catan.py\n",
    "# self here must be the board\n",
    "def if_can_build_noroads(self, building, x, y): \n",
    "        \"\"\"returns true if spot (x,y) is available, false otherwise\"\"\"\n",
    "        if x< 0 or y<0 or x > self.width+1 or y > self.height + 1:\n",
    "            raise CatanException(\"({0},{1}) is an invalid vertex\".format(x,y))\n",
    "        #first let's check that the spot is empty:\n",
    "        if self.get_vertex_number(x,y) in self.cities or self.get_vertex_number(x,y) in self.settlements:\n",
    "            return False\n",
    "\n",
    "        ## upgrading first settlment into a city\n",
    "        if (building == \"city\"):\n",
    "            return self.get_vertex_number(x, y) in self.settlements\n",
    "\n",
    "        ## If no cities, or settlements, build for freebies, otherwise need road connecting.\n",
    "        for x1 in range(x-1,x+2):\n",
    "            for y1 in range(y-1,y+2):\n",
    "                if x1+y1 < x+y-1 or x1+y1 > x+y+1 or y1-x1 < y-x-1 or y1-x1 > y-x+1: ## only interested in up, down, left, and right\n",
    "                    pass\n",
    "                elif x1 < 0 or x1 > self.width or y1 < 0 or y1 > self.height: ## only interested in valid tiles\n",
    "                    pass\n",
    "                elif self.get_vertex_number(x1, y1) in self.settlements or self.get_vertex_number(x1, y1) in self.cities:\n",
    "                    return False\n",
    "        return True\n",
    "\n"
   ]
  },
  {
   "cell_type": "code",
   "execution_count": 12,
   "metadata": {
    "collapsed": true
   },
   "outputs": [],
   "source": [
    "def encode_loc(x, y):\n",
    "    return y * 5 + x\n",
    "\n",
    "def decode_loc(i):\n",
    "    return i % 5, i // 5\n",
    "\n",
    "def hitting_time_for_a_road(player, roadTask):\n",
    "    w, b, g = (1, 1, 0)\n",
    "    trade_rule = roadTask.make_trading_rule(player)\n",
    "    resources_per_roll = player.board.get_resources()\n",
    "    exp,beta,indexes = hitting_time((0,0,0), (w,b,g), resources_per_roll, trade_rule)\n",
    "    return exp # time from no resources\n",
    "\n",
    "MEMO = {}\n",
    "CURRENT = -1\n",
    "def hitting_time_until_task(player, task):\n",
    "    global CURRENT, MEMO\n",
    "    turn_num = player.turn_counter\n",
    "    if CURRENT != turn_num:\n",
    "        CURRENT = turn_num\n",
    "        MEMO = {}\n",
    "    if type(task) in MEMO:\n",
    "        return MEMO[type(task)]\n",
    "    \n",
    "    if isinstance(task, RoadTask):\n",
    "        MEMO[type(task)] = hitting_time_for_a_road(player, task)\n",
    "        return MEMO[type(task)]\n",
    "    \n",
    "    w, b, g = task.resources_needed\n",
    "    w_curr, b_curr, g_curr = player.resources\n",
    "    if w_curr >= w and b_curr >= b and g_curr >=g:\n",
    "        return 0\n",
    "    trade_rule = task.make_trading_rule(player)\n",
    "    resources_per_roll = player.board.get_resources()\n",
    "    exp, beta, indexes = hitting_time(tuple(player.resources), tuple(task.resources_needed), resources_per_roll, trade_rule)\n",
    "    MEMO[type(task)] = exp\n",
    "    return MEMO[type(task)]\n",
    "\n",
    "def calculate_hitting_time(player, goal):\n",
    "    return sum(hitting_time_until_task(player, task) for task in goal.tasks)\n",
    "\n",
    "def choose_goal_to_pursue(player, goals):\n",
    "    weights = []\n",
    "    for goal in goals:\n",
    "        time_to_goal = calculate_hitting_time(player, goal)\n",
    "        weight = goal.estimate_weight(player, time_to_goal)\n",
    "        weights.append(weight)\n",
    "    return goals[np.argmax(weights)]\n",
    "\n",
    "def distance(loc1, loc2):\n",
    "    return abs(loc1[0] - loc2[0]) + abs(loc1[1] - loc2[1])\n",
    "\n",
    "def get_shortest_path_to_location(available_locations, x, y):\n",
    "    \"\"\" Returns a list of ((x1, y1), (x2, y2)) tuples, each symbolizing a road to be built\"\"\"\n",
    "    # this is the closest point to the destination (x, y)\n",
    "    start = min(available_locations, key=lambda loc: distance(loc, (x, y)))\n",
    "    # right now we assume that the best path to take is by going diagonally across the board\n",
    "    #     that way we maximize new available locations that have 4 neighboring resources\n",
    "    #     maybe ideally it would take into account where the other roads are and build in an opposite direction to them or smth\n",
    "    amount_to_go = [x - start[0], y - start[1]] # (amount_to_go_right, amount_to_go_up)\n",
    "    points_to_hit = [start]\n",
    "    curr = list(start) # so that it is mutable, will need to cast to tuple before recording\n",
    "    end  = [x, y]\n",
    "    while curr != end:\n",
    "        # if i == 0, we are moving left/right, if i == 1, we are moving down/up\n",
    "        # this will move horizontally, then diagonally\n",
    "        i = 0 if abs(amount_to_go[0]) >= abs(amount_to_go[1]) else 1\n",
    "        amount = amount_to_go[i] // abs(amount_to_go[i])\n",
    "        curr[i] += amount\n",
    "        amount_to_go[i] -= amount\n",
    "        points_to_hit.append(tuple(curr))\n",
    "    # Now points_to_hit is populated with (x,y) tuples of all the locations we're going to hit\n",
    "    return list(zip(points_to_hit, points_to_hit[1:]))\n",
    "\n",
    "def generate_road_tasks_to_point(player, x, y):\n",
    "    \"\"\"If all building/road buys were made through the Task API, then \n",
    "            available_locations is a set of (x,y) tuples with points we can build roads from\"\"\"\n",
    "    cheapest_roads_to_get_there = get_shortest_path_to_location(player.available_locations, x, y)\n",
    "    tasks = []\n",
    "    for road in cheapest_roads_to_get_there:\n",
    "        tasks.append(RoadTask(road[0], road[1]))\n",
    "    return tasks\n",
    "\n",
    "def generate_settlement_goal_at_location(player, x, y):\n",
    "    tasks = generate_road_tasks_to_point(player, x, y)\n",
    "    tasks.append(SettlementTask(x, y))\n",
    "    return SettlementGoal(tasks, x, y)\n",
    "\n",
    "def generate_port_goal_at_location(player, x, y):\n",
    "    tasks = generate_road_tasks_to_point(player, x, y)\n",
    "    tasks.append(SettlementTask(x, y))\n",
    "    return PortGoal(tasks, x, y)\n",
    "\n",
    "def generate_all_settlement_port_goals(player):\n",
    "    stlments = set(player.board.settlements)\n",
    "    cities = set(player.board.cities)\n",
    "    # all possible places to place new settlements\n",
    "    possible = set((x,y) \n",
    "                for x in range(5) for y in range(5)\n",
    "                if if_can_build_noroads(player.board, \"settlement\", x, y))\n",
    "    ports = set([(0,0), (0,4), (4,0), (4,4)])\n",
    "    goals = []\n",
    "    for x, y in possible:\n",
    "        if (x,y) in ports:\n",
    "            goals.append(generate_port_goal_at_location(player,x,y))\n",
    "        else:\n",
    "            goals.append(generate_settlement_goal_at_location(player,x,y))\n",
    "    return goals\n",
    "\n",
    "def generate_all_city_goals(player):\n",
    "    goals = []\n",
    "    all_settlements = player.board.settlements\n",
    "    for x, y in map(decode_loc, all_settlements):\n",
    "        task = CityTask(x, y)\n",
    "        goals.append(CityGoal([task], x, y))\n",
    "    return goals\n",
    "\n",
    "def generate_all_possible_goals(player):\n",
    "    # Add all the possible settlment only goals (no building of roads)\n",
    "    settlements = generate_all_settlement_port_goals(player)\n",
    "    # Add all the possible city goals\n",
    "    cities = generate_all_city_goals(player)\n",
    "    # Add all the card goal\n",
    "    cards = [\n",
    "        CardGoal([CardTask()])\n",
    "    ]\n",
    "    return settlements + cards + cities\n",
    "\n",
    "def action(self):\n",
    "    if self.turn_counter == 0:\n",
    "        # What are we to do on our first turn?\n",
    "        x, y = self.preComp\n",
    "        self.available_locations = set()\n",
    "        settlementTask = SettlementTask(x, y)\n",
    "        settlementTask.execute(self)\n",
    "        # initialize some values\n",
    "        self.turns_to_recompute = 0\n",
    "    \n",
    "    if self.turns_to_recompute <= 0:\n",
    "        # Let us compute our current goal\n",
    "        possible_goals = generate_all_possible_goals(self)\n",
    "        self.current_goal = choose_goal_to_pursue(self, possible_goals)\n",
    "        self.turns_to_recompute = 3\n",
    "    \n",
    "    tasks = self.current_goal.tasks\n",
    "    while len(tasks) > 0:\n",
    "        curr_task = tasks[0]\n",
    "        if curr_task.execute(self):\n",
    "            tasks.pop(0)\n",
    "        else:\n",
    "            break # Could not complete our task for some reason\n",
    "    if len(tasks) == 0:\n",
    "        self.turns_to_recompute = 0\n",
    "    self.turns_to_recompute -= 1\n",
    "\n",
    "def average_resources_per_turn(board, locations):\n",
    "    DICE_ROLL_PROBS = 1/36 * np.array([1, 2, 3, 4, 5, 6, 5, 4, 3, 2, 1])\n",
    "    r = [0,0,0]\n",
    "    for x, y in locations:\n",
    "        for dx in [-1, 0]: \n",
    "            for dy in [-1, 0]: \n",
    "                xx = x + dx\n",
    "                yy = y + dy\n",
    "                if board.is_tile(xx, yy):\n",
    "                    die = board.dice[yy, xx] \n",
    "                    resource = board.resources[yy, xx]\n",
    "                    r[resource] += 1 * DICE_ROLL_PROBS[die - 2]\n",
    "    return r\n",
    "                    \n",
    "def planBoard(board):\n",
    "    scored = []\n",
    "    for x in range(5):\n",
    "        for y in range(5):\n",
    "            avg = average_resources_per_turn(board, [(x,y)])\n",
    "            if avg[0]==0 or avg[1]==0 or avg[2]==0:\n",
    "                avg = 0\n",
    "            else:\n",
    "                avg = sum(avg)\n",
    "            scored.append((avg, (x,y)))\n",
    "    return max(scored)[1]"
   ]
  },
  {
   "cell_type": "code",
   "execution_count": 13,
   "metadata": {},
   "outputs": [
    {
     "name": "stdout",
     "output_type": "stream",
     "text": [
      "Drawing...\n"
     ]
    },
    {
     "data": {
      "image/png": "[encoded data removed]",
      "text/plain": [
       "<matplotlib.figure.Figure at 0x23e3ca7c978>"
      ]
     },
     "metadata": {},
     "output_type": "display_data"
    }
   ],
   "source": [
    "from hittingtime import *\n",
    "import numpy as np\n",
    "from catan import Catan, CatanException, get_random_dice_arrangement, Player, simulate_game, simulate_game_and_save\n",
    "import matplotlib.pyplot as plt\n",
    "from itertools import repeat\n",
    "%matplotlib inline\n",
    "\n",
    "available_locations_roads = []\n",
    "# building = None\n",
    "# x1,y1 = 0\n",
    "\n",
    "costs = np.array([[2, 1, 1],\n",
    "                  [1, 2, 2],\n",
    "                  [0, 3, 3],\n",
    "                  [1, 1, 0]])\n",
    "\n",
    "num_trials = 1\n",
    "\n",
    "width, height = 4, 4\n",
    "dice = get_random_dice_arrangement(width, height)\n",
    "resources = np.random.randint(0, 3, (height, width))\n",
    "board = Catan(dice, resources)\n",
    "board.draw()"
   ]
  },
  {
   "cell_type": "code",
   "execution_count": 14,
   "metadata": {},
   "outputs": [
    {
     "data": {
      "application/vnd.jupyter.widget-view+json": {
       "model_id": "13fbf1c7056d486680e8cc99a771f8e2"
      }
     },
     "metadata": {},
     "output_type": "display_data"
    },
    {
     "data": {
      "text/plain": [
       "<function __main__.draw>"
      ]
     },
     "execution_count": 14,
     "metadata": {},
     "output_type": "execute_result"
    },
    {
     "data": {
      "image/png": "[encoded data removed]",
      "text/plain": [
       "<matplotlib.figure.Figure at 0x23e3d8c9908>"
      ]
     },
     "metadata": {},
     "output_type": "display_data"
    }
   ],
   "source": [
    "settlements, cities, roads, hands, live_points, dice_rolls = simulate_game_and_save(action, planBoard, board)\n",
    "\n",
    "def draw(t):\n",
    "    t = int(t)\n",
    "    live_board = Catan(board.dice, board.resources, [], [])\n",
    "    live_board.settlements = settlements[t]\n",
    "    live_board.cities = cities[t]\n",
    "    live_board.roads = roads[t]\n",
    "    print(\"turn:\", t)\n",
    "    print(\"points:\", live_points[t])\n",
    "    print(\"dice roll:\", dice_rolls[t])\n",
    "    print(\"resources:\", hands[t])\n",
    "    live_board.draw()\n",
    "\n",
    "from ipywidgets import *\n",
    "interact(draw, t=(0, len(live_points) - 1, 1))"
   ]
  },
  {
   "cell_type": "code",
   "execution_count": 19,
   "metadata": {},
   "outputs": [
    {
     "name": "stdout",
     "output_type": "stream",
     "text": [
      " "
     ]
    }
   ],
   "source": [
    "from scipy import stats\n",
    "from time import time\n",
    "t = time()\n",
    "num_trials = 200\n",
    "%prun trials = np.array([simulate_game(action, planBoard, board, 1) for _ in range(num_trials)])\n",
    "e = time()"
   ]
  },
  {
   "cell_type": "code",
   "execution_count": 20,
   "metadata": {},
   "outputs": [
    {
     "name": "stdout",
     "output_type": "stream",
     "text": [
      "Finished in 501.07226967811584 seconds\n",
      "\n",
      "DescribeResult(nobs=200, minmax=(49.0, 230.0), mean=108.51000000000001, variance=767.47728643216089, skewness=1.0633962562347141, kurtosis=1.9976915283408463)\n",
      "\n"
     ]
    },
    {
     "data": {
      "text/plain": [
       "(array([  6.,  30.,  62.,  51.,  28.,  11.,   7.,   3.,   1.,   1.]),\n",
       " array([  49. ,   67.1,   85.2,  103.3,  121.4,  139.5,  157.6,  175.7,\n",
       "         193.8,  211.9,  230. ]),\n",
       " <a list of 10 Patch objects>)"
      ]
     },
     "execution_count": 20,
     "metadata": {},
     "output_type": "execute_result"
    },
    {
     "data": {
      "image/png": "[encoded data removed]",
      "text/plain": [
       "<matplotlib.figure.Figure at 0x23e3f96b780>"
      ]
     },
     "metadata": {},
     "output_type": "display_data"
    }
   ],
   "source": [
    "print(\"Finished in\", time()-t, \"seconds\")\n",
    "print()\n",
    "print(stats.describe(trials))\n",
    "print()\n",
    "plt.hist(trials)"
   ]
  }
 ],
 "metadata": {
  "kernelspec": {
   "display_name": "Python 3",
   "language": "python",
   "name": "python3"
  },
  "language_info": {
   "codemirror_mode": {
    "name": "ipython",
    "version": 3
   },
   "file_extension": ".py",
   "mimetype": "text/x-python",
   "name": "python",
   "nbconvert_exporter": "python",
   "pygments_lexer": "ipython3",
   "version": "3.6.1"
  },
  "widgets": {
   "state": {},
   "version": "1.1.0"
  }
 },
 "nbformat": 4,
 "nbformat_minor": 2
}
