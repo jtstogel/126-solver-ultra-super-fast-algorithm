{
 "cells": [
  {
   "cell_type": "code",
   "execution_count": 1,
   "metadata": {},
   "outputs": [],
   "source": [
    "import numpy as np\n",
    "from catan import Catan, CatanException, get_random_dice_arrangement, Player, simulate_game, simulate_game_and_save\n",
    "import matplotlib.pyplot as plt\n",
    "from itertools import repeat\n",
    "%matplotlib inline"
   ]
  },
  {
   "cell_type": "code",
   "execution_count": 2,
   "metadata": {},
   "outputs": [],
   "source": [
    "class Goal:\n",
    "    def __init__(self, tasks=[], x=-1, y=-1):\n",
    "        self.tasks = list(tasks)\n",
    "        self.x, self.y = x, y\n",
    "\n",
    "class CityGoal(Goal):\n",
    "    def estimate_weight(self, player, htime):\n",
    "        return 1 / (0.1+htime) # TODO\n",
    "\n",
    "class SettlementGoal(Goal):\n",
    "    def estimate_weight(self, player, htime):\n",
    "        return 1 / (0.1+htime) # TODO\n",
    "\n",
    "class PortGoal(SettlementGoal):\n",
    "    def estimate_weight(self, player, htime):\n",
    "        return 1 / (0.1+htime) # TODO\n",
    "\n",
    "class CardGoal(Goal):\n",
    "    def estimate_weight(self, player, htime):\n",
    "        return 0 # TODO\n",
    "\n",
    "\n",
    "class Task:\n",
    "    def __init__(self, x=-1, y=-1):\n",
    "        self.x, self.y = x, y\n",
    "    \n",
    "    def make_trading_rule(self, player):\n",
    "        return lambda x,y,z: (x,y,z)  # TODO\n",
    "    \n",
    "    def execute(self, player):\n",
    "        pass\n",
    "\n",
    "class CardTask(Task):\n",
    "    resources_needed = (1, 2, 2)\n",
    "    def execute(self, player):\n",
    "        if player.if_can_buy(\"card\"):\n",
    "            player.buy(\"card\")\n",
    "            return True\n",
    "        return False\n",
    "\n",
    "class CityTask(Task):\n",
    "    resources_needed = (0, 3, 3)\n",
    "    def execute(self, player):\n",
    "        if player.if_can_buy(\"city\"):\n",
    "            player.buy(\"city\", self.x, self.y)\n",
    "            return True\n",
    "        return False\n",
    "\n",
    "class SettlementTask(Task):\n",
    "    resources_needed = (2, 1, 1)\n",
    "    def execute(self, player):\n",
    "        if player.if_can_buy(\"settlement\"):\n",
    "            print(\"building settlement!\")\n",
    "            player.buy(\"settlement\", self.x, self.y)\n",
    "            player.available_locations.add((self.x, self.y))\n",
    "            return True\n",
    "        return False\n",
    "\n",
    "class RoadTask(Task):\n",
    "    resources_needed = (1, 1, 0)\n",
    "    def execute(self, player):\n",
    "        if player.if_can_buy(\"road\"):\n",
    "            player.buy(\"road\", self.x, self.y)\n",
    "            player.available_locations.add(self.x)\n",
    "            player.available_locations.add(self.y)\n",
    "            return True\n",
    "        return False\n"
   ]
  },
  {
   "cell_type": "code",
   "execution_count": 3,
   "metadata": {
    "collapsed": true
   },
   "outputs": [],
   "source": [
    "def encode_loc(x, y):\n",
    "    return y * 5 + x\n",
    "\n",
    "def decode_loc(i):\n",
    "    return i % 5, i // 5\n",
    "\n",
    "def hitting_time_until_task(player, task):\n",
    "    # should definitely be cached\n",
    "    w, b, g = task.resources_needed\n",
    "    w_curr, b_curr, g_curr = player.resources\n",
    "    if w_curr >= w and b_curr >= b and g_curr >=g:\n",
    "        return 0\n",
    "    trade_rule = task.make_trading_rule(player)\n",
    "    resources_per_roll = player.board.get_resources()\n",
    "    P = transition_matrix(resources_per_roll, trade_rule)\n",
    "    indexes, beta = hitting_time(P, w, b, g)\n",
    "    encoded = int(encode(w_curr, b_curr, g_curr))\n",
    "    i = indexes.index(encoded)\n",
    "    return beta[i]\n",
    "\n",
    "def calculate_hitting_time(player, goal):\n",
    "    return sum(hitting_time_until_task(player, task) for task in goal.tasks)\n",
    "\n",
    "def choose_goal_to_pursue(player, goals):\n",
    "    weights = []\n",
    "    for goal in goals:\n",
    "        time_to_goal = calculate_hitting_time(player, goal)\n",
    "        weight = goal.estimate_weight(player, time_to_goal)\n",
    "        weights.append(weight)\n",
    "    return goals[np.argmax(weights)]\n",
    "\n",
    "def distance(loc1, loc2):\n",
    "    return abs(loc1[0] - loc2[0]) + abs(loc1[1] - loc2[1])\n",
    "\n",
    "def get_shortest_path_to_location(available_locations, x, y):\n",
    "    \"\"\" Returns a list of ((x1, y1), (x2, y2)) tuples, each symbolizing a road to be built\"\"\"\n",
    "    # this is the closest point to the destination (x, y)\n",
    "    start = min(available_locations, key=lambda loc: distance(loc, (x, y)))\n",
    "    # right now we assume that the best path to take is by going diagonally across the board\n",
    "    #     that way we maximize new available locations that have 4 neighboring resources\n",
    "    #     maybe ideally it would take into account where the other roads are and build in an opposite direction to them or smth\n",
    "    amount_to_go = [x - start[0], y - start[1]] # (amount_to_go_right, amount_to_go_up)\n",
    "    points_to_hit = [start]\n",
    "    curr = list(start) # so that it is mutable, will need to cast to tuple before recording\n",
    "    end  = [x, y]\n",
    "    while curr != end:\n",
    "        # if i == 0, we are moving left/right, if i == 1, we are moving down/up\n",
    "        # this will move horizontally, then diagonally\n",
    "        i = 0 if abs(amount_to_go[0]) >= abs(amount_to_go[1]) else 1\n",
    "        amount = amount_to_go[i] // abs(amount_to_go[i])\n",
    "        curr[i] += amount\n",
    "        amount_to_go[i] -= amount\n",
    "        points_to_hit.append(tuple(curr))\n",
    "    # Now points_to_hit is populated with (x,y) tuples of all the locations we're going to hit\n",
    "    return list(zip(points_to_hit, points_to_hit[1:]))\n",
    "\n",
    "\n",
    "def generate_road_tasks_to_point(player, x, y):\n",
    "    \"\"\"If all building/road buys were made through the Task API, then \n",
    "            available_locations is a set of (x,y) tuples with points we can build roads from\"\"\"\n",
    "    cheapest_roads_to_get_there = get_shortest_path_to_location(player.available_locations, x, y)\n",
    "    tasks = []\n",
    "    for road in cheapest_roads_to_get_there:\n",
    "        tasks.append(RoadTask(road[0], road[1]))\n",
    "    return tasks\n",
    "\n",
    "def generate_settlement_goal_at_location(player, x, y):\n",
    "    tasks = generate_road_tasks_to_point(player, x, y)\n",
    "    tasks.append(SettlementTask(x, y))\n",
    "    return SettlementGoal(tasks, x, y)\n",
    "\n",
    "def generate_port_goal_at_location(player, x, y):\n",
    "    tasks = generate_road_tasks_to_point(player, x, y)\n",
    "    tasks.append(SettlementTask(x, y))\n",
    "    return PortGoal(tasks, x, y)\n",
    "\n",
    "def generate_all_settlement_port_goals(player):\n",
    "    stlments = set(player.board.settlements)\n",
    "    cities = set(player.board.cities)\n",
    "    # all possible places to place new settlements\n",
    "    possible = set((x,y) \n",
    "                for x in range(5) for y in range(5)\n",
    "                if     encode_loc(x,y) not in stlments\n",
    "                   and encode_loc(x,y) not in cities)\n",
    "    ports = set([(0,0), (0,4), (4,0), (4,4)])\n",
    "    goals = []\n",
    "    for x, y in possible:\n",
    "        if (x,y) in ports:\n",
    "            goals.append(generate_port_goal_at_location(player,x,y))\n",
    "        else:\n",
    "            goals.append(generate_settlement_goal_at_location(player,x,y))\n",
    "    \n",
    "    return goals\n",
    "\n",
    "def generate_all_city_goals(player):\n",
    "    goals = []\n",
    "    all_settlements = player.board.settlements\n",
    "    for x, y in map(decode_loc, all_settlements):\n",
    "        task = CityTask(x, y)\n",
    "        goals.append(CityGoal([task], x, y))\n",
    "    return goals\n",
    "\n",
    "\n",
    "def generate_all_possible_goals(player):\n",
    "    # Add all the possible settlment only goals (no building of roads)\n",
    "    settlements = generate_all_settlement_goals(player)\n",
    "    # Add all the possible city goals\n",
    "    cities = generate_all_city_goals(player)\n",
    "    # Add all the card goal\n",
    "    cards = [\n",
    "        CardGoal([CardTask()])\n",
    "    ]\n",
    "    return settlements + cities + ports + cards\n",
    "\n",
    "def action(self):\n",
    "    if self.board.settlements == []:\n",
    "        # What are we to do on our first turn?\n",
    "        x, y = self.preComp\n",
    "        self.available_locations = set()\n",
    "        settlementTask = SettlementTask(x, y)\n",
    "        settlementTask.execute(self)\n",
    "    print(\"i \", end=\"\")\n",
    "    possible_goals = generate_all_possible_goals(self)\n",
    "    self.current_goal = choose_goal_to_pursue(self, possible_goals)\n",
    "    tasks = self.current_goal.tasks\n",
    "    if len(tasks) == 0:\n",
    "        print(\"Should not occur: no tasks in goal\")\n",
    "\n",
    "    while len(tasks) > 0:\n",
    "        curr_task = tasks[0]\n",
    "        if curr_task.execute(self):\n",
    "            tasks.pop(0)\n",
    "        else:\n",
    "            break # Could not complete our task for some reason\n",
    "\n",
    "\n",
    "def planBoard(baseBoard):\n",
    "    return 2, 3\n",
    "    resources_per_tile = {}\n",
    "    for v in range(baseBoard.max_vertex):\n",
    "        loc = baseBoard.get_vertex_location(v)\n",
    "        resources_per_tile[loc] = (set(), 0)\n",
    "        for i in [-1, 0]: \n",
    "            for j in [-1,0]:\n",
    "                neighbor = (loc[0]+i, loc[1] + j)\n",
    "                if neighbor.is_tile():\n",
    "                    resources_per_tile[loc][0].add(baseBoard.resources[neighbor])\n",
    "                    resources_per_tile[loc][1] += 1\n",
    "    optimal_loc = max(resources_per_tile.keys(), key = lambda x: len(resources_per_tile[x][0]) + resources_per_tile[x][1])\n",
    "    return opt_loc"
   ]
  },
  {
   "cell_type": "code",
   "execution_count": 6,
   "metadata": {},
   "outputs": [
    {
     "name": "stdout",
     "output_type": "stream",
     "text": [
      "Drawing...\n"
     ]
    },
    {
     "data": {
      "image/png": "[encoded data removed]",
      "text/plain": [
       "<matplotlib.figure.Figure at 0x13695189588>"
      ]
     },
     "metadata": {},
     "output_type": "display_data"
    }
   ],
   "source": [
    "from hittingtime import *\n",
    "import numpy as np\n",
    "from catan import Catan, CatanException, get_random_dice_arrangement, Player, simulate_game, simulate_game_and_save\n",
    "import matplotlib.pyplot as plt\n",
    "from itertools import repeat\n",
    "%matplotlib inline\n",
    "\n",
    "available_locations_roads = []\n",
    "# building = None\n",
    "# x1,y1 = 0\n",
    "\n",
    "costs = np.array([[2, 1, 1],\n",
    "                  [1, 2, 2],\n",
    "                  [0, 3, 3],\n",
    "                  [1, 1, 0]])\n",
    "\n",
    "num_trials = 1\n",
    "\n",
    "width, height = 4,4\n",
    "dice = get_random_dice_arrangement(width, height)\n",
    "resources = np.random.randint(0, 3, (height, width))\n",
    "board = Catan(dice, resources, [6], [13], [(6, 7), (7, 12), (12, 13)])\n",
    "board.draw()"
   ]
  },
  {
   "cell_type": "code",
   "execution_count": 7,
   "metadata": {},
   "outputs": [
    {
     "name": "stdout",
     "output_type": "stream",
     "text": [
      "building settlement!\n",
      "i "
     ]
    },
    {
     "ename": "NameError",
     "evalue": "name 'generate_all_settlement_goals' is not defined",
     "output_type": "error",
     "traceback": [
      "\u001b[1;31m---------------------------------------------------------------------------\u001b[0m",
      "\u001b[1;31mNameError\u001b[0m                                 Traceback (most recent call last)",
      "\u001b[1;32m<ipython-input-7-ed6d3d256f99>\u001b[0m in \u001b[0;36m<module>\u001b[1;34m()\u001b[0m\n\u001b[1;32m----> 1\u001b[1;33m \u001b[0msettlements\u001b[0m\u001b[1;33m,\u001b[0m \u001b[0mcities\u001b[0m\u001b[1;33m,\u001b[0m \u001b[0mroads\u001b[0m\u001b[1;33m,\u001b[0m \u001b[0mhands\u001b[0m\u001b[1;33m,\u001b[0m \u001b[0mlive_points\u001b[0m\u001b[1;33m,\u001b[0m \u001b[0mdice_rolls\u001b[0m \u001b[1;33m=\u001b[0m \u001b[0msimulate_game_and_save\u001b[0m\u001b[1;33m(\u001b[0m\u001b[0maction\u001b[0m\u001b[1;33m,\u001b[0m \u001b[0mplanBoard\u001b[0m\u001b[1;33m,\u001b[0m \u001b[0mboard\u001b[0m\u001b[1;33m)\u001b[0m\u001b[1;33m\u001b[0m\u001b[0m\n\u001b[0m\u001b[0;32m      2\u001b[0m \u001b[1;33m\u001b[0m\u001b[0m\n\u001b[0;32m      3\u001b[0m \u001b[1;32mdef\u001b[0m \u001b[0mdraw\u001b[0m\u001b[1;33m(\u001b[0m\u001b[0mt\u001b[0m\u001b[1;33m)\u001b[0m\u001b[1;33m:\u001b[0m\u001b[1;33m\u001b[0m\u001b[0m\n\u001b[0;32m      4\u001b[0m     \u001b[0mt\u001b[0m \u001b[1;33m=\u001b[0m \u001b[0mint\u001b[0m\u001b[1;33m(\u001b[0m\u001b[0mt\u001b[0m\u001b[1;33m)\u001b[0m\u001b[1;33m\u001b[0m\u001b[0m\n\u001b[0;32m      5\u001b[0m     \u001b[0mlive_board\u001b[0m \u001b[1;33m=\u001b[0m \u001b[0mCatan\u001b[0m\u001b[1;33m(\u001b[0m\u001b[0mboard\u001b[0m\u001b[1;33m.\u001b[0m\u001b[0mdice\u001b[0m\u001b[1;33m,\u001b[0m \u001b[0mboard\u001b[0m\u001b[1;33m.\u001b[0m\u001b[0mresources\u001b[0m\u001b[1;33m,\u001b[0m \u001b[1;33m[\u001b[0m\u001b[1;33m]\u001b[0m\u001b[1;33m,\u001b[0m \u001b[1;33m[\u001b[0m\u001b[1;33m]\u001b[0m\u001b[1;33m)\u001b[0m\u001b[1;33m\u001b[0m\u001b[0m\n",
      "\u001b[1;32mC:\\Users\\Arcsecond\\ee126\\project\\126-solver-ultra-super-fast-algorithm\\catan.py\u001b[0m in \u001b[0;36msimulate_game_and_save\u001b[1;34m(action, planBoard, board)\u001b[0m\n\u001b[0;32m    359\u001b[0m             \u001b[1;32mraise\u001b[0m \u001b[0mCatanException\u001b[0m\u001b[1;33m(\u001b[0m\u001b[1;34m\"possible infinite loop (over 1M turns)\"\u001b[0m\u001b[1;33m)\u001b[0m\u001b[1;33m\u001b[0m\u001b[0m\n\u001b[0;32m    360\u001b[0m             \u001b[1;32mbreak\u001b[0m\u001b[1;33m\u001b[0m\u001b[0m\n\u001b[1;32m--> 361\u001b[1;33m         \u001b[0mdice_roll\u001b[0m \u001b[1;33m=\u001b[0m \u001b[0mplayer\u001b[0m\u001b[1;33m.\u001b[0m\u001b[0mplay_round\u001b[0m\u001b[1;33m(\u001b[0m\u001b[1;33m)\u001b[0m\u001b[1;33m\u001b[0m\u001b[0m\n\u001b[0m\u001b[0;32m    362\u001b[0m         \u001b[0mdice_rolls\u001b[0m\u001b[1;33m.\u001b[0m\u001b[0mappend\u001b[0m\u001b[1;33m(\u001b[0m\u001b[0mdice_roll\u001b[0m\u001b[1;33m)\u001b[0m\u001b[1;33m\u001b[0m\u001b[0m\n\u001b[0;32m    363\u001b[0m         \u001b[0msettlements\u001b[0m\u001b[1;33m.\u001b[0m\u001b[0mappend\u001b[0m\u001b[1;33m(\u001b[0m\u001b[0mlive_board\u001b[0m\u001b[1;33m.\u001b[0m\u001b[0msettlements\u001b[0m\u001b[1;33m[\u001b[0m\u001b[1;33m:\u001b[0m\u001b[1;33m]\u001b[0m\u001b[1;33m)\u001b[0m\u001b[1;33m\u001b[0m\u001b[0m\n",
      "\u001b[1;32mC:\\Users\\Arcsecond\\ee126\\project\\126-solver-ultra-super-fast-algorithm\\catan.py\u001b[0m in \u001b[0;36mplay_round\u001b[1;34m(self)\u001b[0m\n\u001b[0;32m    314\u001b[0m \u001b[1;33m\u001b[0m\u001b[0m\n\u001b[0;32m    315\u001b[0m         \u001b[1;31m# perform action\u001b[0m\u001b[1;33m\u001b[0m\u001b[1;33m\u001b[0m\u001b[0m\n\u001b[1;32m--> 316\u001b[1;33m         \u001b[0mself\u001b[0m\u001b[1;33m.\u001b[0m\u001b[0maction\u001b[0m\u001b[1;33m(\u001b[0m\u001b[0mself\u001b[0m\u001b[1;33m)\u001b[0m\u001b[1;33m\u001b[0m\u001b[0m\n\u001b[0m\u001b[0;32m    317\u001b[0m         \u001b[1;32massert\u001b[0m \u001b[0mnp\u001b[0m\u001b[1;33m.\u001b[0m\u001b[0mmax\u001b[0m\u001b[1;33m(\u001b[0m\u001b[0mself\u001b[0m\u001b[1;33m.\u001b[0m\u001b[0mresources\u001b[0m\u001b[1;33m)\u001b[0m \u001b[1;33m<\u001b[0m \u001b[0mLIMIT\u001b[0m\u001b[1;33m\u001b[0m\u001b[0m\n\u001b[0;32m    318\u001b[0m \u001b[1;33m\u001b[0m\u001b[0m\n",
      "\u001b[1;32m<ipython-input-3-b6d32fb2c482>\u001b[0m in \u001b[0;36maction\u001b[1;34m(self)\u001b[0m\n\u001b[0;32m    123\u001b[0m         \u001b[0msettlementTask\u001b[0m\u001b[1;33m.\u001b[0m\u001b[0mexecute\u001b[0m\u001b[1;33m(\u001b[0m\u001b[0mself\u001b[0m\u001b[1;33m)\u001b[0m\u001b[1;33m\u001b[0m\u001b[0m\n\u001b[0;32m    124\u001b[0m     \u001b[0mprint\u001b[0m\u001b[1;33m(\u001b[0m\u001b[1;34m\"i \"\u001b[0m\u001b[1;33m,\u001b[0m \u001b[0mend\u001b[0m\u001b[1;33m=\u001b[0m\u001b[1;34m\"\"\u001b[0m\u001b[1;33m)\u001b[0m\u001b[1;33m\u001b[0m\u001b[0m\n\u001b[1;32m--> 125\u001b[1;33m     \u001b[0mpossible_goals\u001b[0m \u001b[1;33m=\u001b[0m \u001b[0mgenerate_all_possible_goals\u001b[0m\u001b[1;33m(\u001b[0m\u001b[0mself\u001b[0m\u001b[1;33m)\u001b[0m\u001b[1;33m\u001b[0m\u001b[0m\n\u001b[0m\u001b[0;32m    126\u001b[0m     \u001b[0mself\u001b[0m\u001b[1;33m.\u001b[0m\u001b[0mcurrent_goal\u001b[0m \u001b[1;33m=\u001b[0m \u001b[0mchoose_goal_to_pursue\u001b[0m\u001b[1;33m(\u001b[0m\u001b[0mself\u001b[0m\u001b[1;33m,\u001b[0m \u001b[0mpossible_goals\u001b[0m\u001b[1;33m)\u001b[0m\u001b[1;33m\u001b[0m\u001b[0m\n\u001b[0;32m    127\u001b[0m     \u001b[0mtasks\u001b[0m \u001b[1;33m=\u001b[0m \u001b[0mself\u001b[0m\u001b[1;33m.\u001b[0m\u001b[0mcurrent_goal\u001b[0m\u001b[1;33m.\u001b[0m\u001b[0mtasks\u001b[0m\u001b[1;33m\u001b[0m\u001b[0m\n",
      "\u001b[1;32m<ipython-input-3-b6d32fb2c482>\u001b[0m in \u001b[0;36mgenerate_all_possible_goals\u001b[1;34m(player)\u001b[0m\n\u001b[0;32m    104\u001b[0m \u001b[1;32mdef\u001b[0m \u001b[0mgenerate_all_possible_goals\u001b[0m\u001b[1;33m(\u001b[0m\u001b[0mplayer\u001b[0m\u001b[1;33m)\u001b[0m\u001b[1;33m:\u001b[0m\u001b[1;33m\u001b[0m\u001b[0m\n\u001b[0;32m    105\u001b[0m     \u001b[1;31m# Add all the possible settlment only goals (no building of roads)\u001b[0m\u001b[1;33m\u001b[0m\u001b[1;33m\u001b[0m\u001b[0m\n\u001b[1;32m--> 106\u001b[1;33m     \u001b[0msettlements\u001b[0m \u001b[1;33m=\u001b[0m \u001b[0mgenerate_all_settlement_goals\u001b[0m\u001b[1;33m(\u001b[0m\u001b[0mplayer\u001b[0m\u001b[1;33m)\u001b[0m\u001b[1;33m\u001b[0m\u001b[0m\n\u001b[0m\u001b[0;32m    107\u001b[0m     \u001b[1;31m# Add all the possible city goals\u001b[0m\u001b[1;33m\u001b[0m\u001b[1;33m\u001b[0m\u001b[0m\n\u001b[0;32m    108\u001b[0m     \u001b[0mcities\u001b[0m \u001b[1;33m=\u001b[0m \u001b[0mgenerate_all_city_goals\u001b[0m\u001b[1;33m(\u001b[0m\u001b[0mplayer\u001b[0m\u001b[1;33m)\u001b[0m\u001b[1;33m\u001b[0m\u001b[0m\n",
      "\u001b[1;31mNameError\u001b[0m: name 'generate_all_settlement_goals' is not defined"
     ]
    }
   ],
   "source": [
    "settlements, cities, roads, hands, live_points, dice_rolls = simulate_game_and_save(action, planBoard, board)\n",
    "\n",
    "def draw(t):\n",
    "    t = int(t)\n",
    "    live_board = Catan(board.dice, board.resources, [], [])\n",
    "    live_board.settlements = settlements[t]\n",
    "    live_board.cities = cities[t]\n",
    "    live_board.roads = roads[t]\n",
    "    print(\"turn:\", t)\n",
    "    print(\"points:\", live_points[t])\n",
    "    print(\"dice roll:\", dice_rolls[t])\n",
    "    print(\"resources:\", hands[t])\n",
    "    live_board.draw()\n",
    "\n",
    "from ipywidgets import *\n",
    "interact(draw, t=(0, len(live_points) - 1, 1))\n",
    "print(settlements)"
   ]
  },
  {
   "cell_type": "code",
   "execution_count": 27,
   "metadata": {},
   "outputs": [
    {
     "name": "stdout",
     "output_type": "stream",
     "text": [
      "hello\n"
     ]
    },
    {
     "data": {
      "text/plain": [
       "'hello'"
      ]
     },
     "execution_count": 27,
     "metadata": {},
     "output_type": "execute_result"
    }
   ],
   "source": [
    "input()"
   ]
  },
  {
   "cell_type": "code",
   "execution_count": 97,
   "metadata": {},
   "outputs": [
    {
     "data": {
      "text/plain": [
       "[((0, 2), (1, 2)),\n",
       " ((1, 2), (2, 2)),\n",
       " ((2, 2), (3, 2)),\n",
       " ((3, 2), (3, 3)),\n",
       " ((3, 3), (4, 3)),\n",
       " ((4, 3), (4, 4))]"
      ]
     },
     "execution_count": 97,
     "metadata": {},
     "output_type": "execute_result"
    }
   ],
   "source": [
    "get_shortest_path_to_location([(0,0), (0,2)], 4,4)"
   ]
  },
  {
   "cell_type": "code",
   "execution_count": null,
   "metadata": {
    "collapsed": true
   },
   "outputs": [],
   "source": []
  }
 ],
 "metadata": {
  "kernelspec": {
   "display_name": "Python 3",
   "language": "python",
   "name": "python3"
  },
  "language_info": {
   "codemirror_mode": {
    "name": "ipython",
    "version": 3
   },
   "file_extension": ".py",
   "mimetype": "text/x-python",
   "name": "python",
   "nbconvert_exporter": "python",
   "pygments_lexer": "ipython3",
   "version": "3.6.1"
  }
 },
 "nbformat": 4,
 "nbformat_minor": 2
}
